{
  "nbformat": 4,
  "nbformat_minor": 0,
  "metadata": {
    "colab": {
      "name": "Twitter",
      "provenance": [],
      "collapsed_sections": [],
      "authorship_tag": "ABX9TyOX1eerRUpeq2SzTis5CNN6",
      "include_colab_link": true
    },
    "kernelspec": {
      "name": "python3",
      "display_name": "Python 3"
    }
  },
  "cells": [
    {
      "cell_type": "markdown",
      "metadata": {
        "id": "view-in-github",
        "colab_type": "text"
      },
      "source": [
        "<a href=\"https://colab.research.google.com/github/Greedisawesome/twitter_statement_analysis/blob/main/Twitter.ipynb\" target=\"_parent\"><img src=\"https://colab.research.google.com/assets/colab-badge.svg\" alt=\"Open In Colab\"/></a>"
      ]
    },
    {
      "cell_type": "code",
      "metadata": {
        "id": "AIGydGVy7YUd"
      },
      "source": [
        "from textblob import TextBlob\n",
        "import tweepy\n",
        "import pandas as pd\n",
        "import numpy as np\n",
        "import re\n",
        "from google.colab import files\n",
        "import matplotlib.pyplot as plt"
      ],
      "execution_count": null,
      "outputs": []
    },
    {
      "cell_type": "code",
      "metadata": {
        "id": "Kx0yCk9R7flc"
      },
      "source": [
        "#twitter_credentials = files.upload()"
      ],
      "execution_count": null,
      "outputs": []
    },
    {
      "cell_type": "code",
      "metadata": {
        "id": "ofdofmP58K-A"
      },
      "source": [
        "import twitter_credentials"
      ],
      "execution_count": null,
      "outputs": []
    },
    {
      "cell_type": "code",
      "metadata": {
        "id": "1La44aq88OaY"
      },
      "source": [
        "auth =  tweepy.OAuthHandler(twitter_credentials.CONSUMER_KEY, twitter_credentials.CONSUMER_SECRET)\n",
        "auth.set_access_token(twitter_credentials.ACCESS_TOKEN, twitter_credentials.ACCESS_TOKEN_SECRET)\n",
        "api = tweepy.API(auth, wait_on_rate_limit = True )"
      ],
      "execution_count": null,
      "outputs": []
    },
    {
      "cell_type": "code",
      "metadata": {
        "id": "pDPs7kiEq2y0"
      },
      "source": [
        "posts = api.search('Israel lockdown' , count= 1000, result_type='recent', lang='en', include_entities = False, tweet_mode='extended')\n",
        "pd.set_option('display.max_colwidth',5000)\n",
        "df = pd.DataFrame([[tweet.full_text, tweet.id] for tweet in posts ], columns = ['Tweets','ID'])\n",
        "for i in range(500):\n",
        "  new_posts = api.search('Israel lockdown', count= 1000, max_id = df['ID'].iloc[-1], lang='en', include_entities = False, tweet_mode='extended')\n",
        "  #print(new_posts[0])\n",
        "  df_2 = pd.DataFrame([[tweet.full_text, tweet.id] for tweet in new_posts ], columns = ['Tweets','ID'])\n",
        "  df = df.append(df_2)"
      ],
      "execution_count": null,
      "outputs": []
    },
    {
      "cell_type": "code",
      "metadata": {
        "id": "_T_MYatxwGVK",
        "outputId": "a19f71ce-b2f5-4087-cf7e-3d94554d9031",
        "colab": {
          "base_uri": "https://localhost:8080/",
          "height": 436
        }
      },
      "source": [
        "df"
      ],
      "execution_count": null,
      "outputs": [
        {
          "output_type": "execute_result",
          "data": {
            "text/html": [
              "<div>\n",
              "<style scoped>\n",
              "    .dataframe tbody tr th:only-of-type {\n",
              "        vertical-align: middle;\n",
              "    }\n",
              "\n",
              "    .dataframe tbody tr th {\n",
              "        vertical-align: top;\n",
              "    }\n",
              "\n",
              "    .dataframe thead th {\n",
              "        text-align: right;\n",
              "    }\n",
              "</style>\n",
              "<table border=\"1\" class=\"dataframe\">\n",
              "  <thead>\n",
              "    <tr style=\"text-align: right;\">\n",
              "      <th></th>\n",
              "      <th>Tweets</th>\n",
              "      <th>ID</th>\n",
              "    </tr>\n",
              "  </thead>\n",
              "  <tbody>\n",
              "    <tr>\n",
              "      <th>0</th>\n",
              "      <td>@QAnon_Report  @QSentMe83187800 @QTheWakeUp @qarmy1 @marc_Q1 @_qpatriot1776_ @PatriotAidan @QohnG @55true4u \\n\\nI have been reading the drops.  Is Spain and Israel already on lockdown</td>\n",
              "      <td>1307769880213676042</td>\n",
              "    </tr>\n",
              "    <tr>\n",
              "      <th>1</th>\n",
              "      <td>RT @jncatron: Israel back under lockdown as West Bank eyes another shutdown https://t.co/aCzVL4IVoR</td>\n",
              "      <td>1307769180775735297</td>\n",
              "    </tr>\n",
              "    <tr>\n",
              "      <th>2</th>\n",
              "      <td>RT @haaretzcom: Police said they detained a driver who was speeding near the main protest site | Live updates https://t.co/LzBYX9XsSE</td>\n",
              "      <td>1307769099792064517</td>\n",
              "    </tr>\n",
              "    <tr>\n",
              "      <th>3</th>\n",
              "      <td>RT @AFilan: #Israeli police arrest driver suspected of trying to run over anti-Netanyahu protesters in Jerusalem  https://t.co/RwSkjo8L19</td>\n",
              "      <td>1307769090346450945</td>\n",
              "    </tr>\n",
              "    <tr>\n",
              "      <th>4</th>\n",
              "      <td>Hello* #Israel is in Total Lockdown Day #2  Get Serious** 😷😷😷 https://t.co/k6qgDRK9qG</td>\n",
              "      <td>1307769066715787265</td>\n",
              "    </tr>\n",
              "    <tr>\n",
              "      <th>...</th>\n",
              "      <td>...</td>\n",
              "      <td>...</td>\n",
              "    </tr>\n",
              "    <tr>\n",
              "      <th>0</th>\n",
              "      <td>RT @business: Israel will become the only developed country to shut down again nationwide after a botched reopening https://t.co/vNvc1mOfbi</td>\n",
              "      <td>1304578792011296769</td>\n",
              "    </tr>\n",
              "    <tr>\n",
              "      <th>0</th>\n",
              "      <td>RT @business: Israel will become the only developed country to shut down again nationwide after a botched reopening https://t.co/vNvc1mOfbi</td>\n",
              "      <td>1304578792011296769</td>\n",
              "    </tr>\n",
              "    <tr>\n",
              "      <th>0</th>\n",
              "      <td>RT @business: Israel will become the only developed country to shut down again nationwide after a botched reopening https://t.co/vNvc1mOfbi</td>\n",
              "      <td>1304578792011296769</td>\n",
              "    </tr>\n",
              "    <tr>\n",
              "      <th>0</th>\n",
              "      <td>RT @business: Israel will become the only developed country to shut down again nationwide after a botched reopening https://t.co/vNvc1mOfbi</td>\n",
              "      <td>1304578792011296769</td>\n",
              "    </tr>\n",
              "    <tr>\n",
              "      <th>0</th>\n",
              "      <td>RT @business: Israel will become the only developed country to shut down again nationwide after a botched reopening https://t.co/vNvc1mOfbi</td>\n",
              "      <td>1304578792011296769</td>\n",
              "    </tr>\n",
              "  </tbody>\n",
              "</table>\n",
              "<p>41609 rows × 2 columns</p>\n",
              "</div>"
            ],
            "text/plain": [
              "                                                                                                                                                                                     Tweets                   ID\n",
              "0   @QAnon_Report  @QSentMe83187800 @QTheWakeUp @qarmy1 @marc_Q1 @_qpatriot1776_ @PatriotAidan @QohnG @55true4u \\n\\nI have been reading the drops.  Is Spain and Israel already on lockdown  1307769880213676042\n",
              "1                                                                                       RT @jncatron: Israel back under lockdown as West Bank eyes another shutdown https://t.co/aCzVL4IVoR  1307769180775735297\n",
              "2                                                     RT @haaretzcom: Police said they detained a driver who was speeding near the main protest site | Live updates https://t.co/LzBYX9XsSE  1307769099792064517\n",
              "3                                                 RT @AFilan: #Israeli police arrest driver suspected of trying to run over anti-Netanyahu protesters in Jerusalem  https://t.co/RwSkjo8L19  1307769090346450945\n",
              "4                                                                                                     Hello* #Israel is in Total Lockdown Day #2  Get Serious** 😷😷😷 https://t.co/k6qgDRK9qG  1307769066715787265\n",
              "..                                                                                                                                                                                      ...                  ...\n",
              "0                                               RT @business: Israel will become the only developed country to shut down again nationwide after a botched reopening https://t.co/vNvc1mOfbi  1304578792011296769\n",
              "0                                               RT @business: Israel will become the only developed country to shut down again nationwide after a botched reopening https://t.co/vNvc1mOfbi  1304578792011296769\n",
              "0                                               RT @business: Israel will become the only developed country to shut down again nationwide after a botched reopening https://t.co/vNvc1mOfbi  1304578792011296769\n",
              "0                                               RT @business: Israel will become the only developed country to shut down again nationwide after a botched reopening https://t.co/vNvc1mOfbi  1304578792011296769\n",
              "0                                               RT @business: Israel will become the only developed country to shut down again nationwide after a botched reopening https://t.co/vNvc1mOfbi  1304578792011296769\n",
              "\n",
              "[41609 rows x 2 columns]"
            ]
          },
          "metadata": {
            "tags": []
          },
          "execution_count": 6
        }
      ]
    },
    {
      "cell_type": "code",
      "metadata": {
        "id": "hvdmqgsUUWye"
      },
      "source": [
        "#print(dir(posts[0]))"
      ],
      "execution_count": null,
      "outputs": []
    },
    {
      "cell_type": "code",
      "metadata": {
        "id": "EDv0Zuv28Vq-"
      },
      "source": [
        "def clean(text):\n",
        "    #text = re.sub(r'@[A-Za-z0–9]+', '', text)\n",
        "    #text = re.sub(r'#', '', text)\n",
        "    text = re.sub(r'RT[\\s]+', '', text)\n",
        "    #text = re.sub(r'https?:\\/\\/\\S+', '', text)\n",
        "    #text = re.sub(r'\\n', '', text)\n",
        "    #text = \"\".join([char.lower() for char in text if char not in string.punctuation])\n",
        "    text = re.sub(\"(@[A-Za-z0-9]+)|([^0-9A-Za-z \\t])|(\\w+:\\/\\/\\S+)\", \" \", text)\n",
        "    text = text.strip() \n",
        "    return  text"
      ],
      "execution_count": null,
      "outputs": []
    },
    {
      "cell_type": "code",
      "metadata": {
        "id": "0Ylcki_I8WqM"
      },
      "source": [
        "df['Tweets'] = df['Tweets'].apply(clean)"
      ],
      "execution_count": null,
      "outputs": []
    },
    {
      "cell_type": "code",
      "metadata": {
        "id": "EFn4goex9bnq",
        "outputId": "6a2b3e89-733b-4d6e-f934-e230e4be368b",
        "colab": {
          "base_uri": "https://localhost:8080/",
          "height": 34
        }
      },
      "source": [
        "df.drop_duplicates('Tweets', inplace=True)\n",
        "df.shape"
      ],
      "execution_count": null,
      "outputs": [
        {
          "output_type": "execute_result",
          "data": {
            "text/plain": [
              "(7864, 2)"
            ]
          },
          "metadata": {
            "tags": []
          },
          "execution_count": 10
        }
      ]
    },
    {
      "cell_type": "code",
      "metadata": {
        "id": "z73cdSzk8jBc"
      },
      "source": [
        "def getSubjectivity(text):\n",
        "  return TextBlob(text).sentiment.subjectivity\n",
        "\n",
        "def getPolarity(text):\n",
        "  return TextBlob(text).sentiment.polarity"
      ],
      "execution_count": null,
      "outputs": []
    },
    {
      "cell_type": "code",
      "metadata": {
        "id": "MZLt3-QnvUUj",
        "outputId": "ea22bc99-13a3-4c63-9377-785bf1ad9345",
        "colab": {
          "base_uri": "https://localhost:8080/",
          "height": 34
        }
      },
      "source": [
        "#Checking the sentiment of word lockdown itself\n",
        "print(getPolarity('lockdown'),getSubjectivity('lockdown'))"
      ],
      "execution_count": null,
      "outputs": [
        {
          "output_type": "stream",
          "text": [
            "0.0 0.0\n"
          ],
          "name": "stdout"
        }
      ]
    },
    {
      "cell_type": "code",
      "metadata": {
        "id": "KFbLJqfdvokp",
        "outputId": "d5d206b5-cd5b-494b-dc29-774ca511553f",
        "colab": {
          "base_uri": "https://localhost:8080/",
          "height": 86
        }
      },
      "source": [
        "#Comparing results of NaiveBayesAlgorithm, but it takes too much time\n",
        "'''from textblob.sentiments import NaiveBayesAnalyzer\n",
        "from textblob import Blobber\n",
        "import nltk\n",
        "nltk.download('movie_reviews')\n",
        "nltk.download('punkt')\n",
        "tb = Blobber(analyzer=NaiveBayesAnalyzer())\n",
        "b = TextBlob(df['Tweets'].iloc[-1], analyzer=NaiveBayesAnalyzer()).sentiment.p_pos\n",
        "print(df['Tweets'].iloc[-1], b.sentiment, getPolarity(df['Tweets'].iloc[-1]))\n",
        "\n",
        "def getNBA(text):\n",
        "  return TextBlob(text, analyzer=NaiveBayesAnalyzer()).sentiment\n",
        "\n",
        "df['NaiveBayesAnalysis'] = df['Tweets'].apply(getNBA)\n",
        "'''"
      ],
      "execution_count": null,
      "outputs": [
        {
          "output_type": "execute_result",
          "data": {
            "application/vnd.google.colaboratory.intrinsic+json": {
              "type": "string"
            },
            "text/plain": [
              "\"from textblob.sentiments import NaiveBayesAnalyzer\\nfrom textblob import Blobber\\nimport nltk\\nnltk.download('movie_reviews')\\nnltk.download('punkt')\\ntb = Blobber(analyzer=NaiveBayesAnalyzer())\\nb = TextBlob(df['Tweets'].iloc[-1], analyzer=NaiveBayesAnalyzer()).sentiment.p_pos\\nprint(df['Tweets'].iloc[-1], b.sentiment, getPolarity(df['Tweets'].iloc[-1]))\\n\\ndef getNBA(text):\\n  return TextBlob(text, analyzer=NaiveBayesAnalyzer()).sentiment\\n\\ndf['NaiveBayesAnalysis'] = df['Tweets'].apply(getNBA)\\n\""
            ]
          },
          "metadata": {
            "tags": []
          },
          "execution_count": 13
        }
      ]
    },
    {
      "cell_type": "code",
      "metadata": {
        "id": "JuJNuDoU84v8"
      },
      "source": [
        "df['Subjectivity'] = df['Tweets'].apply(getSubjectivity)\n",
        "df['Polarity'] = df['Tweets'].apply(getPolarity)"
      ],
      "execution_count": null,
      "outputs": []
    },
    {
      "cell_type": "code",
      "metadata": {
        "id": "GSXeLcfe93dE",
        "outputId": "48827405-9f8c-4b43-a4b9-ab2b416c979b",
        "colab": {
          "base_uri": "https://localhost:8080/",
          "height": 487
        }
      },
      "source": [
        "def getAnalysis(score):\n",
        "  if score < 0:\n",
        "    return 'Negative'\n",
        "  elif score == 0:\n",
        "    return 'Neutral'\n",
        "  else:\n",
        "    return 'Positive'\n",
        "\n",
        "df['Analysis'] = df['Polarity'].apply(getAnalysis)\n",
        "df"
      ],
      "execution_count": null,
      "outputs": [
        {
          "output_type": "execute_result",
          "data": {
            "text/html": [
              "<div>\n",
              "<style scoped>\n",
              "    .dataframe tbody tr th:only-of-type {\n",
              "        vertical-align: middle;\n",
              "    }\n",
              "\n",
              "    .dataframe tbody tr th {\n",
              "        vertical-align: top;\n",
              "    }\n",
              "\n",
              "    .dataframe thead th {\n",
              "        text-align: right;\n",
              "    }\n",
              "</style>\n",
              "<table border=\"1\" class=\"dataframe\">\n",
              "  <thead>\n",
              "    <tr style=\"text-align: right;\">\n",
              "      <th></th>\n",
              "      <th>Tweets</th>\n",
              "      <th>ID</th>\n",
              "      <th>Subjectivity</th>\n",
              "      <th>Polarity</th>\n",
              "      <th>Analysis</th>\n",
              "    </tr>\n",
              "  </thead>\n",
              "  <tbody>\n",
              "    <tr>\n",
              "      <th>0</th>\n",
              "      <td>Report          Q1   qpatriot1776          I have been reading the drops   Is Spain and Israel already on lockdown</td>\n",
              "      <td>1307769880213676042</td>\n",
              "      <td>0.000000</td>\n",
              "      <td>0.000000</td>\n",
              "      <td>Neutral</td>\n",
              "    </tr>\n",
              "    <tr>\n",
              "      <th>1</th>\n",
              "      <td>Israel back under lockdown as West Bank eyes another shutdown</td>\n",
              "      <td>1307769180775735297</td>\n",
              "      <td>0.000000</td>\n",
              "      <td>0.000000</td>\n",
              "      <td>Neutral</td>\n",
              "    </tr>\n",
              "    <tr>\n",
              "      <th>2</th>\n",
              "      <td>Police said they detained a driver who was speeding near the main protest site   Live updates</td>\n",
              "      <td>1307769099792064517</td>\n",
              "      <td>0.411111</td>\n",
              "      <td>0.134343</td>\n",
              "      <td>Positive</td>\n",
              "    </tr>\n",
              "    <tr>\n",
              "      <th>3</th>\n",
              "      <td>Israeli police arrest driver suspected of trying to run over anti Netanyahu protesters in Jerusalem</td>\n",
              "      <td>1307769090346450945</td>\n",
              "      <td>0.000000</td>\n",
              "      <td>-0.050000</td>\n",
              "      <td>Negative</td>\n",
              "    </tr>\n",
              "    <tr>\n",
              "      <th>4</th>\n",
              "      <td>Hello   Israel is in Total Lockdown Day  2  Get Serious</td>\n",
              "      <td>1307769066715787265</td>\n",
              "      <td>0.708333</td>\n",
              "      <td>-0.166667</td>\n",
              "      <td>Negative</td>\n",
              "    </tr>\n",
              "    <tr>\n",
              "      <th>...</th>\n",
              "      <td>...</td>\n",
              "      <td>...</td>\n",
              "      <td>...</td>\n",
              "      <td>...</td>\n",
              "      <td>...</td>\n",
              "    </tr>\n",
              "    <tr>\n",
              "      <th>14</th>\n",
              "      <td>While  America is on LOCKDOWN  Trump is busy working for Israel          More News</td>\n",
              "      <td>1304600450931609607</td>\n",
              "      <td>0.400000</td>\n",
              "      <td>0.300000</td>\n",
              "      <td>Positive</td>\n",
              "    </tr>\n",
              "    <tr>\n",
              "      <th>15</th>\n",
              "      <td>Daily Psalm 2  Day 8   How Majestic   Full Video      christian  Christ  Jesus  Yeshua  Bible  God  gospel  Israel  Yah  truth  messiah  church  BibleStudy  EndTimes  Rapture  coronavirus  lockdown</td>\n",
              "      <td>1304599284751503360</td>\n",
              "      <td>0.183333</td>\n",
              "      <td>0.116667</td>\n",
              "      <td>Positive</td>\n",
              "    </tr>\n",
              "    <tr>\n",
              "      <th>19</th>\n",
              "      <td>Really  I am so sorry to hear that Israel took a decision to go in lockdown AGAIN  What s the matter  It seems like exist a big effort to broke the world spine  economically and spiritually with FEAR   I respect and admire Israel  I didn t expected to hear this</td>\n",
              "      <td>1304593828201074690</td>\n",
              "      <td>0.506667</td>\n",
              "      <td>-0.060000</td>\n",
              "      <td>Negative</td>\n",
              "    </tr>\n",
              "    <tr>\n",
              "      <th>26</th>\n",
              "      <td>Israel imposes nationwide lockdown as coronavirus cases soar    COVID19  Covid  Coronavirus  Trump  Pence  Biden  Harris  Pandemic  Virus</td>\n",
              "      <td>1304582595393523712</td>\n",
              "      <td>0.000000</td>\n",
              "      <td>0.000000</td>\n",
              "      <td>Neutral</td>\n",
              "    </tr>\n",
              "    <tr>\n",
              "      <th>27</th>\n",
              "      <td>Israel imposes nationwide lockdown as coronavirus cases soar</td>\n",
              "      <td>1304582360638259202</td>\n",
              "      <td>0.000000</td>\n",
              "      <td>0.000000</td>\n",
              "      <td>Neutral</td>\n",
              "    </tr>\n",
              "  </tbody>\n",
              "</table>\n",
              "<p>7864 rows × 5 columns</p>\n",
              "</div>"
            ],
            "text/plain": [
              "                                                                                                                                                                                                                                                                   Tweets  ...  Analysis\n",
              "0                                                                                                                                                      Report          Q1   qpatriot1776          I have been reading the drops   Is Spain and Israel already on lockdown  ...   Neutral\n",
              "1                                                                                                                                                                                                           Israel back under lockdown as West Bank eyes another shutdown  ...   Neutral\n",
              "2                                                                                                                                                                           Police said they detained a driver who was speeding near the main protest site   Live updates  ...  Positive\n",
              "3                                                                                                                                                                     Israeli police arrest driver suspected of trying to run over anti Netanyahu protesters in Jerusalem  ...  Negative\n",
              "4                                                                                                                                                                                                                 Hello   Israel is in Total Lockdown Day  2  Get Serious  ...  Negative\n",
              "..                                                                                                                                                                                                                                                                    ...  ...       ...\n",
              "14                                                                                                                                                                                     While  America is on LOCKDOWN  Trump is busy working for Israel          More News  ...  Positive\n",
              "15                                                                  Daily Psalm 2  Day 8   How Majestic   Full Video      christian  Christ  Jesus  Yeshua  Bible  God  gospel  Israel  Yah  truth  messiah  church  BibleStudy  EndTimes  Rapture  coronavirus  lockdown  ...  Positive\n",
              "19  Really  I am so sorry to hear that Israel took a decision to go in lockdown AGAIN  What s the matter  It seems like exist a big effort to broke the world spine  economically and spiritually with FEAR   I respect and admire Israel  I didn t expected to hear this  ...  Negative\n",
              "26                                                                                                                              Israel imposes nationwide lockdown as coronavirus cases soar    COVID19  Covid  Coronavirus  Trump  Pence  Biden  Harris  Pandemic  Virus  ...   Neutral\n",
              "27                                                                                                                                                                                                           Israel imposes nationwide lockdown as coronavirus cases soar  ...   Neutral\n",
              "\n",
              "[7864 rows x 5 columns]"
            ]
          },
          "metadata": {
            "tags": []
          },
          "execution_count": 15
        }
      ]
    },
    {
      "cell_type": "code",
      "metadata": {
        "id": "d_J6RH6jUwxB",
        "outputId": "ebd471b1-ec57-49da-c323-176441d63f7e",
        "colab": {
          "base_uri": "https://localhost:8080/",
          "height": 17
        }
      },
      "source": [
        "compression_opts = dict(method='zip', archive_name='out.csv')  \n",
        "df.to_csv('out.zip', index=False, compression=compression_opts)  \n",
        "files.download('out.zip') "
      ],
      "execution_count": null,
      "outputs": [
        {
          "output_type": "display_data",
          "data": {
            "application/javascript": [
              "\n",
              "    async function download(id, filename, size) {\n",
              "      if (!google.colab.kernel.accessAllowed) {\n",
              "        return;\n",
              "      }\n",
              "      const div = document.createElement('div');\n",
              "      const label = document.createElement('label');\n",
              "      label.textContent = `Downloading \"${filename}\": `;\n",
              "      div.appendChild(label);\n",
              "      const progress = document.createElement('progress');\n",
              "      progress.max = size;\n",
              "      div.appendChild(progress);\n",
              "      document.body.appendChild(div);\n",
              "\n",
              "      const buffers = [];\n",
              "      let downloaded = 0;\n",
              "\n",
              "      const channel = await google.colab.kernel.comms.open(id);\n",
              "      // Send a message to notify the kernel that we're ready.\n",
              "      channel.send({})\n",
              "\n",
              "      for await (const message of channel.messages) {\n",
              "        // Send a message to notify the kernel that we're ready.\n",
              "        channel.send({})\n",
              "        if (message.buffers) {\n",
              "          for (const buffer of message.buffers) {\n",
              "            buffers.push(buffer);\n",
              "            downloaded += buffer.byteLength;\n",
              "            progress.value = downloaded;\n",
              "          }\n",
              "        }\n",
              "      }\n",
              "      const blob = new Blob(buffers, {type: 'application/binary'});\n",
              "      const a = document.createElement('a');\n",
              "      a.href = window.URL.createObjectURL(blob);\n",
              "      a.download = filename;\n",
              "      div.appendChild(a);\n",
              "      a.click();\n",
              "      div.remove();\n",
              "    }\n",
              "  "
            ],
            "text/plain": [
              "<IPython.core.display.Javascript object>"
            ]
          },
          "metadata": {
            "tags": []
          }
        },
        {
          "output_type": "display_data",
          "data": {
            "application/javascript": [
              "download(\"download_55010bdd-87d4-4602-9f51-f9940019b320\", \"out.zip\", 478955)"
            ],
            "text/plain": [
              "<IPython.core.display.Javascript object>"
            ]
          },
          "metadata": {
            "tags": []
          }
        }
      ]
    },
    {
      "cell_type": "code",
      "metadata": {
        "id": "NJYumQMEGysB",
        "outputId": "7dac73d6-c34e-4439-d056-983c5f75bdc8",
        "colab": {
          "base_uri": "https://localhost:8080/",
          "height": 404
        }
      },
      "source": [
        "plt.figure(figsize =(8,6))\n",
        "plt.scatter(df['Polarity'], df['Subjectivity'], color = 'Blue')\n",
        "\n",
        "plt.title('Sentiment analysis')\n",
        "plt.xlabel('Polarity')\n",
        "plt.ylabel('Subjectivity')\n",
        "plt.show()"
      ],
      "execution_count": null,
      "outputs": [
        {
          "output_type": "display_data",
          "data": {
            "image/png": "[encoded data removed]",
            "text/plain": [
              "<Figure size 576x432 with 1 Axes>"
            ]
          },
          "metadata": {
            "tags": [],
            "needs_background": "light"
          }
        }
      ]
    },
    {
      "cell_type": "code",
      "metadata": {
        "id": "O65eWaobiiZH",
        "outputId": "c6bce209-cfc3-487b-f4f1-9d201262c803",
        "colab": {
          "base_uri": "https://localhost:8080/",
          "height": 34
        }
      },
      "source": [
        "ptweets = df[df['Analysis'] == 'Positive'].shape[0] / df.shape[0]\n",
        "ptweets = round(ptweets * 100,1)\n",
        "ntweets = df[df['Analysis'] == 'Negative'].shape[0] / df.shape[0]\n",
        "ntweets = round(ntweets * 100,1)\n",
        "print('Percent of positive tweets about lockdown is {}%, while negative tweets are at {}% rate'.format(ptweets, ntweets))"
      ],
      "execution_count": null,
      "outputs": [
        {
          "output_type": "stream",
          "text": [
            "Percent of positive tweets about lockdown is 44.8%, while negative tweets are at 20.9% rate\n"
          ],
          "name": "stdout"
        }
      ]
    },
    {
      "cell_type": "code",
      "metadata": {
        "id": "qojZh0HzkFwd",
        "outputId": "6e9fa43d-db88-4837-ed27-4cbb717215ad",
        "colab": {
          "base_uri": "https://localhost:8080/",
          "height": 330
        }
      },
      "source": [
        "plt.title('Tweets distribution')\n",
        "plt.xlabel('Sentiment')\n",
        "plt.ylabel('Counts')\n",
        "df['Analysis'].value_counts().plot.bar()\n",
        "plt.show()"
      ],
      "execution_count": null,
      "outputs": [
        {
          "output_type": "display_data",
          "data": {
            "image/png": "[encoded data removed]",
            "text/plain": [
              "<Figure size 432x288 with 1 Axes>"
            ]
          },
          "metadata": {
            "tags": [],
            "needs_background": "light"
          }
        }
      ]
    },
    {
      "cell_type": "code",
      "metadata": {
        "id": "pZdR7kC0Ih3O",
        "outputId": "6b9ef9f9-2254-4afe-fd24-7573d999a037",
        "colab": {
          "base_uri": "https://localhost:8080/",
          "height": 241
        }
      },
      "source": [
        "df['Tweets'][df['Subjectivity'] == 1]"
      ],
      "execution_count": null,
      "outputs": [
        {
          "output_type": "execute_result",
          "data": {
            "text/plain": [
              "62                                                                                                                                                                              ulrich The only reason for lockdown in Israel is a prime minister with 3 indictments  nothing to do with\n",
              "78                                                                                                                                                                     ulrich The only reason for lockdown in Israel is a prime minister with 3 indictments  nothing to do with COVID 19\n",
              "1                                                                                                                                                                            Well  all this surrounding RBS s  UCL qualifier doesn t seem funny anymore  From lockdown in Israel to this\n",
              "47                                                                                                                                                                                                                                       Excellent article on corona and Israeli culture\n",
              "98                                                                      Israel just went into lockdown again to own Trump for the  Libs  because you know the virus is fake    The Pope also got in on the Democratic hoax by wearing masks  just to spite Trump of course     COVIDIOTS\n",
              "                                                                                                                                             ...                                                                                                                                        \n",
              "12             BREAKING  Reports that Litzman has resigned in protest to the proposed lockdown     As   yair pointed out to me   it is possible for ministers to resign without UTJ pulling out of the coalition  We ll see what happens    ElectionsAreComing  LockdownIsComing  Israel\n",
              "60                                                                                                                                                         Post  Although the final details of the upcoming  coronavirus lockdown will only be determined at the cabinet meeting on Sund\n",
              "71                                                                                                    Israel             Also Sweden is literally the only country that had 0 lockdown mask mandates so this is not cherry picked it s literally the only example you can use to compare\n",
              "8                                                                                                                                                                 Israel is preparing to another lockdown period to try to stop the  COVID19  epidemic  However  there are no convincing\n",
              "58    I just got a notification from Wednesday we re going into lockdown again on israel  I m happy about the no school part but I think I might do charity work again for the elders who can t go get their medicine and buy it for them like I did in the beginning of corona should I\n",
              "Name: Tweets, Length: 127, dtype: object"
            ]
          },
          "metadata": {
            "tags": []
          },
          "execution_count": 20
        }
      ]
    },
    {
      "cell_type": "code",
      "metadata": {
        "id": "9b13M_bNAWVO",
        "outputId": "8fe2881d-8f8f-4a8a-d579-ae628ddcb95d",
        "colab": {
          "base_uri": "https://localhost:8080/",
          "height": 331
        }
      },
      "source": [
        "df[df['Polarity'] == df['Polarity'].max()]"
      ],
      "execution_count": null,
      "outputs": [
        {
          "output_type": "execute_result",
          "data": {
            "text/html": [
              "<div>\n",
              "<style scoped>\n",
              "    .dataframe tbody tr th:only-of-type {\n",
              "        vertical-align: middle;\n",
              "    }\n",
              "\n",
              "    .dataframe tbody tr th {\n",
              "        vertical-align: top;\n",
              "    }\n",
              "\n",
              "    .dataframe thead th {\n",
              "        text-align: right;\n",
              "    }\n",
              "</style>\n",
              "<table border=\"1\" class=\"dataframe\">\n",
              "  <thead>\n",
              "    <tr style=\"text-align: right;\">\n",
              "      <th></th>\n",
              "      <th>Tweets</th>\n",
              "      <th>ID</th>\n",
              "      <th>Subjectivity</th>\n",
              "      <th>Polarity</th>\n",
              "      <th>Analysis</th>\n",
              "    </tr>\n",
              "  </thead>\n",
              "  <tbody>\n",
              "    <tr>\n",
              "      <th>90</th>\n",
              "      <td>This was the best part of lockdown</td>\n",
              "      <td>1307728455803506689</td>\n",
              "      <td>0.3</td>\n",
              "      <td>1.0</td>\n",
              "      <td>Positive</td>\n",
              "    </tr>\n",
              "    <tr>\n",
              "      <th>47</th>\n",
              "      <td>Excellent article on corona and Israeli culture</td>\n",
              "      <td>1307674821199908864</td>\n",
              "      <td>1.0</td>\n",
              "      <td>1.0</td>\n",
              "      <td>Positive</td>\n",
              "    </tr>\n",
              "    <tr>\n",
              "      <th>28</th>\n",
              "      <td>Real Fly  Israel returns to lockdown as COVID 19 cases mount</td>\n",
              "      <td>1306985036428849158</td>\n",
              "      <td>1.0</td>\n",
              "      <td>1.0</td>\n",
              "      <td>Positive</td>\n",
              "    </tr>\n",
              "    <tr>\n",
              "      <th>71</th>\n",
              "      <td>Perfect timing</td>\n",
              "      <td>1306105147945295872</td>\n",
              "      <td>1.0</td>\n",
              "      <td>1.0</td>\n",
              "      <td>Positive</td>\n",
              "    </tr>\n",
              "    <tr>\n",
              "      <th>88</th>\n",
              "      <td>how about  tribute  by   for a guy listening in Israel about to go into another 3 weeks of national lockdown    Not the greatest song in the world  just a tribute</td>\n",
              "      <td>1305803453248217088</td>\n",
              "      <td>1.0</td>\n",
              "      <td>1.0</td>\n",
              "      <td>Positive</td>\n",
              "    </tr>\n",
              "    <tr>\n",
              "      <th>39</th>\n",
              "      <td>sheitan                                                Country like Israel  India s Best Friend  imposed countrywide lockdown  In In</td>\n",
              "      <td>1305302243734777856</td>\n",
              "      <td>0.3</td>\n",
              "      <td>1.0</td>\n",
              "      <td>Positive</td>\n",
              "    </tr>\n",
              "    <tr>\n",
              "      <th>3</th>\n",
              "      <td>Maybe the US will do another lockdown since our best buds Israel have</td>\n",
              "      <td>1305239658461310982</td>\n",
              "      <td>0.3</td>\n",
              "      <td>1.0</td>\n",
              "      <td>Positive</td>\n",
              "    </tr>\n",
              "    <tr>\n",
              "      <th>36</th>\n",
              "      <td>We will always support Israel Netanyahu is helping with lockdown When people can t control the spread there s lockdown there s guidelines government got the best choice for the people     Godcomment</td>\n",
              "      <td>1305096642002067457</td>\n",
              "      <td>0.3</td>\n",
              "      <td>1.0</td>\n",
              "      <td>Positive</td>\n",
              "    </tr>\n",
              "  </tbody>\n",
              "</table>\n",
              "</div>"
            ],
            "text/plain": [
              "                                                                                                                                                                                                    Tweets  ...  Analysis\n",
              "90                                                                                                                                                                      This was the best part of lockdown  ...  Positive\n",
              "47                                                                                                                                                         Excellent article on corona and Israeli culture  ...  Positive\n",
              "28                                                                                                                                            Real Fly  Israel returns to lockdown as COVID 19 cases mount  ...  Positive\n",
              "71                                                                                                                                                                                          Perfect timing  ...  Positive\n",
              "88                                      how about  tribute  by   for a guy listening in Israel about to go into another 3 weeks of national lockdown    Not the greatest song in the world  just a tribute  ...  Positive\n",
              "39                                                                    sheitan                                                Country like Israel  India s Best Friend  imposed countrywide lockdown  In In  ...  Positive\n",
              "3                                                                                                                                    Maybe the US will do another lockdown since our best buds Israel have  ...  Positive\n",
              "36  We will always support Israel Netanyahu is helping with lockdown When people can t control the spread there s lockdown there s guidelines government got the best choice for the people     Godcomment  ...  Positive\n",
              "\n",
              "[8 rows x 5 columns]"
            ]
          },
          "metadata": {
            "tags": []
          },
          "execution_count": 23
        }
      ]
    },
    {
      "cell_type": "code",
      "metadata": {
        "id": "vo1f_ZVoD79H",
        "outputId": "6c366e32-3853-40df-c8d6-59540b3ad494",
        "colab": {
          "base_uri": "https://localhost:8080/",
          "height": 379
        }
      },
      "source": [
        "df[df['Polarity'] == df['Polarity'].min()]"
      ],
      "execution_count": null,
      "outputs": [
        {
          "output_type": "execute_result",
          "data": {
            "text/html": [
              "<div>\n",
              "<style scoped>\n",
              "    .dataframe tbody tr th:only-of-type {\n",
              "        vertical-align: middle;\n",
              "    }\n",
              "\n",
              "    .dataframe tbody tr th {\n",
              "        vertical-align: top;\n",
              "    }\n",
              "\n",
              "    .dataframe thead th {\n",
              "        text-align: right;\n",
              "    }\n",
              "</style>\n",
              "<table border=\"1\" class=\"dataframe\">\n",
              "  <thead>\n",
              "    <tr style=\"text-align: right;\">\n",
              "      <th></th>\n",
              "      <th>Tweets</th>\n",
              "      <th>ID</th>\n",
              "      <th>Subjectivity</th>\n",
              "      <th>Polarity</th>\n",
              "      <th>Analysis</th>\n",
              "    </tr>\n",
              "  </thead>\n",
              "  <tbody>\n",
              "    <tr>\n",
              "      <th>23</th>\n",
              "      <td>intl Thee are countries lockdown on hat trick so what makes difference to Israel if again lockdown  Covid on reverse shots in dozens countries    US is worst among world</td>\n",
              "      <td>1306991053694791680</td>\n",
              "      <td>1.0</td>\n",
              "      <td>-1.0</td>\n",
              "      <td>Negative</td>\n",
              "    </tr>\n",
              "    <tr>\n",
              "      <th>12</th>\n",
              "      <td>Trump the world peace keeper  Israel going into 3 week lockdown to remove the evil</td>\n",
              "      <td>1306497470965460998</td>\n",
              "      <td>1.0</td>\n",
              "      <td>-1.0</td>\n",
              "      <td>Negative</td>\n",
              "    </tr>\n",
              "    <tr>\n",
              "      <th>42</th>\n",
              "      <td>PeaceDeal among countries not at war  amp  there s this  worldwide   pandemic worst in 100 years  so   Israel is about to imp</td>\n",
              "      <td>1306023017777111040</td>\n",
              "      <td>1.0</td>\n",
              "      <td>-1.0</td>\n",
              "      <td>Negative</td>\n",
              "    </tr>\n",
              "    <tr>\n",
              "      <th>81</th>\n",
              "      <td>Israel is under a 3 week lockdown  This is insane</td>\n",
              "      <td>1305903032115355653</td>\n",
              "      <td>1.0</td>\n",
              "      <td>-1.0</td>\n",
              "      <td>Negative</td>\n",
              "    </tr>\n",
              "    <tr>\n",
              "      <th>1</th>\n",
              "      <td>Terrible optics  Israel is on lockdown again and Bibi cannot be bothered with a mask</td>\n",
              "      <td>1305900090201198593</td>\n",
              "      <td>1.0</td>\n",
              "      <td>-1.0</td>\n",
              "      <td>Negative</td>\n",
              "    </tr>\n",
              "    <tr>\n",
              "      <th>19</th>\n",
              "      <td>Grim News As Coronavirus Deaths Skyrocket In US  Lockdown Fight Looms If It Continues</td>\n",
              "      <td>1305257585122127872</td>\n",
              "      <td>1.0</td>\n",
              "      <td>-1.0</td>\n",
              "      <td>Negative</td>\n",
              "    </tr>\n",
              "    <tr>\n",
              "      <th>69</th>\n",
              "      <td>On the contrary  any attempt to reach  herdimmunity ahead of a vaccine would be pathologically evil  That s why it has been rejected by every Government on the face of the earth  Why deliberately front load deaths</td>\n",
              "      <td>1305238346860580864</td>\n",
              "      <td>1.0</td>\n",
              "      <td>-1.0</td>\n",
              "      <td>Negative</td>\n",
              "    </tr>\n",
              "    <tr>\n",
              "      <th>9</th>\n",
              "      <td>Who else is getting a  news for you  notification that Israel s imposing a nationwide lockdown as  cases surge     Pathetic    Has every media outlet been instructed to use the word  surge</td>\n",
              "      <td>1305235557619044352</td>\n",
              "      <td>1.0</td>\n",
              "      <td>-1.0</td>\n",
              "      <td>Negative</td>\n",
              "    </tr>\n",
              "    <tr>\n",
              "      <th>4</th>\n",
              "      <td>PublicHealth  Given its population of 9 million  the country now has one of the world s worst outbreaks  It is now seei</td>\n",
              "      <td>1305227793769394178</td>\n",
              "      <td>1.0</td>\n",
              "      <td>-1.0</td>\n",
              "      <td>Negative</td>\n",
              "    </tr>\n",
              "  </tbody>\n",
              "</table>\n",
              "</div>"
            ],
            "text/plain": [
              "                                                                                                                                                                                                                   Tweets  ...  Analysis\n",
              "23                                              intl Thee are countries lockdown on hat trick so what makes difference to Israel if again lockdown  Covid on reverse shots in dozens countries    US is worst among world  ...  Negative\n",
              "12                                                                                                                                     Trump the world peace keeper  Israel going into 3 week lockdown to remove the evil  ...  Negative\n",
              "42                                                                                          PeaceDeal among countries not at war  amp  there s this  worldwide   pandemic worst in 100 years  so   Israel is about to imp  ...  Negative\n",
              "81                                                                                                                                                                      Israel is under a 3 week lockdown  This is insane  ...  Negative\n",
              "1                                                                                                                                    Terrible optics  Israel is on lockdown again and Bibi cannot be bothered with a mask  ...  Negative\n",
              "19                                                                                                                                  Grim News As Coronavirus Deaths Skyrocket In US  Lockdown Fight Looms If It Continues  ...  Negative\n",
              "69  On the contrary  any attempt to reach  herdimmunity ahead of a vaccine would be pathologically evil  That s why it has been rejected by every Government on the face of the earth  Why deliberately front load deaths  ...  Negative\n",
              "9                            Who else is getting a  news for you  notification that Israel s imposing a nationwide lockdown as  cases surge     Pathetic    Has every media outlet been instructed to use the word  surge  ...  Negative\n",
              "4                                                                                                 PublicHealth  Given its population of 9 million  the country now has one of the world s worst outbreaks  It is now seei  ...  Negative\n",
              "\n",
              "[9 rows x 5 columns]"
            ]
          },
          "metadata": {
            "tags": []
          },
          "execution_count": 22
        }
      ]
    },
    {
      "cell_type": "code",
      "metadata": {
        "id": "zMoL8BMCD9O4"
      },
      "source": [
        ""
      ],
      "execution_count": null,
      "outputs": []
    }
  ]
}